{
 "cells": [
  {
   "cell_type": "markdown",
   "metadata": {},
   "source": [
    "## Arrays"
   ]
  },
  {
   "cell_type": "markdown",
   "metadata": {},
   "source": [
    "# check if subarray with 0 sum exists or not"
   ]
  },
  {
   "cell_type": "code",
   "execution_count": 15,
   "metadata": {},
   "outputs": [],
   "source": [
    "def subarrayExist(arr):\n",
    "    previous_occ = set([0])\n",
    "    sum = 0\n",
    "    for num in arr:\n",
    "        sum += num\n",
    "        if(sum in previous_occ):\n",
    "            return True\n",
    "        else:\n",
    "            previous_occ.add(sum)\n",
    "    return False"
   ]
  },
  {
   "cell_type": "code",
   "execution_count": 17,
   "metadata": {},
   "outputs": [
    {
     "data": {
      "text/plain": [
       "True"
      ]
     },
     "execution_count": 17,
     "metadata": {},
     "output_type": "execute_result"
    }
   ],
   "source": [
    "subarrayExist([ 4, 2, -3, -1, 0])"
   ]
  },
  {
   "cell_type": "markdown",
   "metadata": {},
   "source": [
    "# print all the subarray with sum 0"
   ]
  },
  {
   "cell_type": "code",
   "execution_count": 49,
   "metadata": {},
   "outputs": [],
   "source": [
    "def printSubarrays(arr):\n",
    "    previous_occ = list([0])\n",
    "    sum = 0\n",
    "    for num in arr:\n",
    "        sum += num\n",
    "        locs =  [i for i, e in enumerate(previous_occ) if e == sum]\n",
    "        length = len(previous_occ)\n",
    "        for loc in  locs:\n",
    "            print(arr[loc:length])\n",
    "        previous_occ.append(sum)"
   ]
  },
  {
   "cell_type": "code",
   "execution_count": 50,
   "metadata": {},
   "outputs": [
    {
     "name": "stdout",
     "output_type": "stream",
     "text": [
      "[3, 4, -7]\n",
      "[4, -7, 3]\n",
      "[-7, 3, 1, 3]\n",
      "[3, 1, -4]\n",
      "[3, 4, -7, 3, 1, 3, 1, -4, -2, -2]\n",
      "[3, 1, 3, 1, -4, -2, -2]\n"
     ]
    }
   ],
   "source": [
    "printSubarrays([ 3, 4, -7, 3, 1, 3, 1, -4, -2, -2 ])"
   ]
  },
  {
   "cell_type": "code",
   "execution_count": 51,
   "metadata": {},
   "outputs": [],
   "source": [
    "# time complexity is n^2"
   ]
  },
  {
   "cell_type": "markdown",
   "metadata": {},
   "source": [
    "# sort binary array in linear time"
   ]
  },
  {
   "cell_type": "code",
   "execution_count": 55,
   "metadata": {},
   "outputs": [],
   "source": [
    "def sortBin(arr): \n",
    "    sorted = list()\n",
    "    for a in arr:\n",
    "        if a == 0:\n",
    "            sorted = [0] + sorted\n",
    "        else:\n",
    "            sorted.append(1)\n",
    "    return sorted\n",
    "    "
   ]
  },
  {
   "cell_type": "code",
   "execution_count": 56,
   "metadata": {},
   "outputs": [
    {
     "data": {
      "text/plain": [
       "[0, 0, 0, 0, 0, 0, 1, 1, 1, 1]"
      ]
     },
     "execution_count": 56,
     "metadata": {},
     "output_type": "execute_result"
    }
   ],
   "source": [
    "sortBin([0, 0, 1, 0, 1, 1, 0, 1, 0, 0])"
   ]
  },
  {
   "cell_type": "code",
   "execution_count": 63,
   "metadata": {},
   "outputs": [],
   "source": [
    "def sortBinPartition(arr):\n",
    "    pivot = 1\n",
    "    border = 0\n",
    "    for i in range(len(arr)):\n",
    "        if arr[i] < pivot:\n",
    "            arr[i], arr[border] = arr[border], arr[i]\n",
    "            border += 1\n",
    "            "
   ]
  },
  {
   "cell_type": "code",
   "execution_count": 65,
   "metadata": {},
   "outputs": [
    {
     "data": {
      "text/plain": [
       "[0, 0, 0, 0, 0, 0, 1, 1, 1, 1]"
      ]
     },
     "execution_count": 65,
     "metadata": {},
     "output_type": "execute_result"
    }
   ],
   "source": [
    "A = [0, 0, 1, 0, 1, 1, 0, 1, 0, 0]\n",
    "sortBinPartition(A)\n",
    "A"
   ]
  },
  {
   "cell_type": "markdown",
   "metadata": {},
   "source": [
    "# Quick sort"
   ]
  },
  {
   "cell_type": "markdown",
   "metadata": {},
   "source": [
    "# Add other sorting algo"
   ]
  },
  {
   "cell_type": "markdown",
   "metadata": {},
   "source": [
    "# largest subarray formed by consecutive numbers non repeating"
   ]
  },
  {
   "cell_type": "code",
   "execution_count": 1,
   "metadata": {},
   "outputs": [],
   "source": [
    "def findSubarray(A):\n",
    "    # to store all the subarray start and end points\n",
    "    inds = []\n",
    "    # to lookup location of repeating element.\n",
    "    subarr = dict()\n",
    "    start = 0\n",
    "    for i in range(len(A)):\n",
    "        if A[i] in subarr:\n",
    "            inds.append([start, i])\n",
    "            #index to next to repeated element\n",
    "            i = subarr[A[i]] + 1\n",
    "            start = i\n",
    "            subarr = dict()\n",
    "        else:\n",
    "            subarr[A[i]] = i\n",
    "    largest = 0\n",
    "    val = []\n",
    "    # i can put this task in above loop as well\n",
    "    for e in inds:\n",
    "        if e[1] - e[0] > largest:\n",
    "            val = e\n",
    "            largest = e[1] - e[0]\n",
    "    return A[e[0]: e[1]]\n",
    "            \n",
    "            "
   ]
  },
  {
   "cell_type": "code",
   "execution_count": 2,
   "metadata": {},
   "outputs": [
    {
     "data": {
      "text/plain": [
       "[4, 3, 1, 0, 4, 5, 7, 8]"
      ]
     },
     "execution_count": 2,
     "metadata": {},
     "output_type": "execute_result"
    }
   ],
   "source": [
    "findSubarray([2, 0, 2, 1, 4, 3, 1, 0, 4, 5, 7, 8, 8])"
   ]
  },
  {
   "cell_type": "code",
   "execution_count": 3,
   "metadata": {},
   "outputs": [
    {
     "data": {
      "text/plain": [
       "[6, -5, 5, 3, 5]"
      ]
     },
     "execution_count": 3,
     "metadata": {},
     "output_type": "execute_result"
    }
   ],
   "source": [
    "findSubarray([ 5, 6, -5, 5, 3, 5, 3, -2, 0 ])"
   ]
  },
  {
   "cell_type": "markdown",
   "metadata": {},
   "source": [
    "# maximum length subarray having given sum"
   ]
  },
  {
   "cell_type": "code",
   "execution_count": 95,
   "metadata": {},
   "outputs": [],
   "source": [
    "def findSubarrayWSum(arr, S):\n",
    "    previous_occ = list([S])\n",
    "    sum = 0\n",
    "    for num in arr:\n",
    "        sum += num\n",
    "        locs =  [i for i, e in enumerate(previous_occ) if (sum - e) == S]\n",
    "        length = len(previous_occ)\n",
    "        for loc in  locs:\n",
    "            print(arr[loc:length])\n",
    "        previous_occ.append(sum)"
   ]
  },
  {
   "cell_type": "code",
   "execution_count": 96,
   "metadata": {},
   "outputs": [
    {
     "name": "stdout",
     "output_type": "stream",
     "text": [
      "[5, 3]\n",
      "[-5, 5, 3, 5]\n",
      "[3, 5]\n",
      "[5, 3]\n"
     ]
    }
   ],
   "source": [
    "findSubarrayWSum([ 5, 6, -5, 5, 3, 5, 3, -2, 0 ], 8)"
   ]
  },
  {
   "cell_type": "code",
   "execution_count": 97,
   "metadata": {},
   "outputs": [],
   "source": [
    "# you can return the max one by storing differnce and indices"
   ]
  },
  {
   "cell_type": "markdown",
   "metadata": {},
   "source": [
    "# inplace merging to sorted array"
   ]
  },
  {
   "cell_type": "code",
   "execution_count": 103,
   "metadata": {},
   "outputs": [],
   "source": [
    "def mergeIn(A, B):\n",
    "    A.extend(B)\n",
    "    A.sort()\n",
    "    print(A)"
   ]
  },
  {
   "cell_type": "code",
   "execution_count": 104,
   "metadata": {},
   "outputs": [
    {
     "name": "stdout",
     "output_type": "stream",
     "text": [
      "[1, 2, 2, 3, 4, 4, 5, 6, 7, 8, 8, 10]\n"
     ]
    }
   ],
   "source": [
    "mergeIn([1,2,4,5,6,8], [2,3,4,7,8,10])"
   ]
  },
  {
   "cell_type": "code",
   "execution_count": 128,
   "metadata": {},
   "outputs": [],
   "source": [
    "X = [ 0, 2, 0, 3, 0, 5, 6, 0, 0]\n",
    "Y = [ 1, 8, 9, 10, 15 ]"
   ]
  },
  {
   "cell_type": "code",
   "execution_count": 141,
   "metadata": {},
   "outputs": [],
   "source": [
    "def mergeConstraint(X, Y):\n",
    "    X.sort()\n",
    "    Y.sort()\n",
    "    c = X.count(0)\n",
    "    X[:c] = Y[:c]\n",
    "    X.sort()"
   ]
  },
  {
   "cell_type": "code",
   "execution_count": 142,
   "metadata": {},
   "outputs": [
    {
     "data": {
      "text/plain": [
       "[1, 2, 3, 5, 6, 8, 9, 10, 15]"
      ]
     },
     "execution_count": 142,
     "metadata": {},
     "output_type": "execute_result"
    }
   ],
   "source": [
    "mergeConstraint(X, Y)\n",
    "X"
   ]
  },
  {
   "cell_type": "markdown",
   "metadata": {},
   "source": [
    "## Backtracking"
   ]
  },
  {
   "cell_type": "markdown",
   "metadata": {},
   "source": [
    "# N Queen"
   ]
  },
  {
   "cell_type": "code",
   "execution_count": 183,
   "metadata": {},
   "outputs": [],
   "source": [
    "def solve(r, n, ans,col, d1, d2):\n",
    "    if(r == n):\n",
    "        ans[0] += 1\n",
    "        return\n",
    "    for c in range(n):\n",
    "        if not(col[c]) and not(d1[r-c-n-1]) and not(d2[r+c]):\n",
    "            col[c] = d1[r-c-n-1] = d2[r+c] = True\n",
    "            solve(r+1, n, ans, col, d1, d2)\n",
    "            col[c] = d1[r-c-n-1] = d2[r+c] = False\n",
    "        "
   ]
  },
  {
   "cell_type": "code",
   "execution_count": 184,
   "metadata": {},
   "outputs": [],
   "source": [
    "def nQueens(n):\n",
    "    ans = [0]\n",
    "    col = [False] * 30\n",
    "    d1 = [False] * 30\n",
    "    d2 = [False] * 30\n",
    "    solve(0, n, ans, col, d1, d2)\n",
    "    return ans"
   ]
  },
  {
   "cell_type": "code",
   "execution_count": 189,
   "metadata": {},
   "outputs": [
    {
     "data": {
      "text/plain": [
       "[73712]"
      ]
     },
     "execution_count": 189,
     "metadata": {},
     "output_type": "execute_result"
    }
   ],
   "source": [
    "nQueens(13)"
   ]
  },
  {
   "cell_type": "markdown",
   "metadata": {},
   "source": [
    "so um i can have a list store indices of substrngs and return one with max diff\n",
    "set to check repetition"
   ]
  },
  {
   "cell_type": "code",
   "execution_count": 195,
   "metadata": {},
   "outputs": [],
   "source": [
    "def convert(self, s: str, numRows: int) -> str:\n",
    "    if numRows == 1 or numRows == 2:\n",
    "        return\n",
    "    if not s:\n",
    "        return\n",
    "    arr = [''] *  numRows\n",
    "    r = 0\n",
    "    i = 0\n",
    "    while(i < len(s)):\n",
    "        if(r == numRows):\n",
    "            r -= 1\n",
    "            while(r > 0):\n",
    "                r -= 1\n",
    "                if i >= len(s):\n",
    "                    print(i)\n",
    "                    break\n",
    "                arr[r] += s[i]\n",
    "                i += 1\n",
    "            r = 1\n",
    "        if i >= len(s):\n",
    "            break\n",
    "        arr[r] += s[i]\n",
    "        i += 1\n",
    "        r += 1\n",
    "    return ''.join(arr)"
   ]
  },
  {
   "cell_type": "code",
   "execution_count": 196,
   "metadata": {},
   "outputs": [
    {
     "name": "stdout",
     "output_type": "stream",
     "text": [
      "4\n"
     ]
    },
    {
     "data": {
      "text/plain": [
       "'ABDC'"
      ]
     },
     "execution_count": 196,
     "metadata": {},
     "output_type": "execute_result"
    }
   ],
   "source": [
    "convert(1, 'ABCD', 3)"
   ]
  },
  {
   "cell_type": "code",
   "execution_count": 199,
   "metadata": {
    "scrolled": true
   },
   "outputs": [
    {
     "name": "stdout",
     "output_type": "stream",
     "text": [
      "h\n"
     ]
    }
   ],
   "source": [
    "try:\n",
    "    int('c')\n",
    "except:\n",
    "    print('h')"
   ]
  },
  {
   "cell_type": "markdown",
   "metadata": {},
   "source": [
    "# ATOI"
   ]
  },
  {
   "cell_type": "code",
   "execution_count": 206,
   "metadata": {},
   "outputs": [],
   "source": [
    "def myAtoi(self, str: str) -> int:\n",
    "\n",
    "    INT_MAX = (2**31 - 1) \n",
    "    INT_MIN = -(2**31)\n",
    "    res = '0'\n",
    "    isNeg = False\n",
    "    str = str.strip()\n",
    "\n",
    "    if len(str) == 0:\n",
    "        return 0\n",
    "    if str[0] == '-':\n",
    "        isNeg = True\n",
    "        try:\n",
    "            str = str[1: ]\n",
    "        except:\n",
    "            return 0\n",
    "    elif str[0] == '+':\n",
    "        try:\n",
    "            str = str[1: ]\n",
    "        except:\n",
    "            return 0\n",
    "    for i in str:\n",
    "        if i not in \"0123456789\":\n",
    "            break\n",
    "        res += i\n",
    "    if (isNeg):\n",
    "        return max(-int(res), INT_MIN)\n",
    "    else:\n",
    "        return min(int(res), INT_MAX)"
   ]
  },
  {
   "cell_type": "code",
   "execution_count": 207,
   "metadata": {},
   "outputs": [
    {
     "name": "stdout",
     "output_type": "stream",
     "text": [
      "-\n"
     ]
    },
    {
     "data": {
      "text/plain": [
       "0"
      ]
     },
     "execution_count": 207,
     "metadata": {},
     "output_type": "execute_result"
    }
   ],
   "source": [
    "myAtoi(1, '-')"
   ]
  },
  {
   "cell_type": "code",
   "execution_count": 209,
   "metadata": {},
   "outputs": [
    {
     "name": "stdout",
     "output_type": "stream",
     "text": [
      "('f', 'f', 'f')\n",
      "('l', 'l', 'l')\n",
      "('o', 'o', 'i')\n",
      "('w', 'w', 'n')\n"
     ]
    }
   ],
   "source": [
    "x = ['flower', 'flow', 'fling']\n",
    "for i in zip(*x):\n",
    "    print(i)"
   ]
  },
  {
   "cell_type": "markdown",
   "metadata": {},
   "source": [
    "# a, b, c in array such that a+b+c = 0 and no duplicates"
   ]
  },
  {
   "cell_type": "code",
   "execution_count": 17,
   "metadata": {},
   "outputs": [],
   "source": [
    "def threeSum(nums):\n",
    "    nums.sort()\n",
    "    result = []\n",
    "    N = len(nums)\n",
    "    for i in range(N):\n",
    "        # removing 3sum duplicates\n",
    "        if i > 0 and nums[i] == nums[i-1]: continue\n",
    "        # 2sum problem, a + b = -c\n",
    "        target = -nums[i]\n",
    "        s, e = i+1, N-1\n",
    "        while s<e:\n",
    "            if nums[s] + nums[e] == target:\n",
    "                result.append([nums[s], nums[e], nums[i]])\n",
    "                s += 1\n",
    "                # removing 2sum duplicates\n",
    "                while s<e and nums[s] == nums[s-1]:\n",
    "                    s += 1\n",
    "            elif nums[s] + nums[e] < target:\n",
    "                s +=1\n",
    "            else:\n",
    "                e -= 1\n",
    "    return result"
   ]
  },
  {
   "cell_type": "code",
   "execution_count": 18,
   "metadata": {},
   "outputs": [
    {
     "data": {
      "text/plain": [
       "[[-2, 5, -3], [-1, 4, -3], [-2, 4, -2], [-1, 2, -1]]"
      ]
     },
     "execution_count": 18,
     "metadata": {},
     "output_type": "execute_result"
    }
   ],
   "source": [
    "threeSum([-1,-1,2,4,5,-1,-3,-2,-2])"
   ]
  },
  {
   "cell_type": "markdown",
   "metadata": {},
   "source": [
    "# twoSum"
   ]
  },
  {
   "cell_type": "code",
   "execution_count": 28,
   "metadata": {},
   "outputs": [],
   "source": [
    "class Solution:\n",
    "    # @param A : tuple of integers\n",
    "    # @param B : integer\n",
    "    # @return a list of integers\n",
    "    def twoSum(self, A, B):\n",
    "        if not A:\n",
    "            return\n",
    "        result = []\n",
    "        track = dict()\n",
    "        N = len(A)\n",
    "        for i in range(N):\n",
    "            a = A[i]\n",
    "            x = B - a\n",
    "            if x in track:\n",
    "                # result.append([track[x], i])\n",
    "                return [track[x]+1, i+1]\n",
    "            if not a in track:\n",
    "                track[a] = i\n",
    "                \n",
    "        return []\n",
    "            "
   ]
  },
  {
   "cell_type": "markdown",
   "metadata": {},
   "source": [
    "# four sum"
   ]
  },
  {
   "cell_type": "code",
   "execution_count": 29,
   "metadata": {},
   "outputs": [],
   "source": [
    "class Solution:\n",
    "    # @param A : list of integers\n",
    "    # @param B : integer\n",
    "    # @return a list of list of integers\n",
    "    def fourSum(self, A, B):\n",
    "        res = set()\n",
    "        store = dict()\n",
    "        if not A or len(A)==0:\n",
    "            return list(res)\n",
    "        A.sort()\n",
    "        for i in range(len(A)):\n",
    "            for j in range(i+1, len(A)):\n",
    "                curSum = A[i]+A[j]\n",
    "                if (B-curSum) in store:\n",
    "                    for f, s in store[B-curSum]:\n",
    "                        if i>s:\n",
    "                            res.add((A[f], A[s], A[i], A[j]))\n",
    "                if (curSum) not in store:\n",
    "                    store[curSum] = [(i, j)]\n",
    "                else:\n",
    "                    store[curSum].append((i, j))\n",
    "        res = list(res)\n",
    "        res.sort()\n",
    "        return res"
   ]
  },
  {
   "cell_type": "code",
   "execution_count": null,
   "metadata": {},
   "outputs": [],
   "source": []
  },
  {
   "cell_type": "markdown",
   "metadata": {},
   "source": [
    "## GFG - Arrays"
   ]
  },
  {
   "cell_type": "markdown",
   "metadata": {},
   "source": [
    "# 3. Kadane's algo"
   ]
  },
  {
   "cell_type": "code",
   "execution_count": 30,
   "metadata": {},
   "outputs": [],
   "source": [
    "def kadane(A):\n",
    "    curr_max = A[0]\n",
    "    g_max = A[0]\n",
    "    for ind, el in enumerate(A):\n",
    "        if ind > 0:\n",
    "            curr_max = max(el, curr_max+el)\n",
    "            g_max = max(curr_max, g_max)\n",
    "    return g_max"
   ]
  },
  {
   "cell_type": "code",
   "execution_count": 31,
   "metadata": {},
   "outputs": [
    {
     "data": {
      "text/plain": [
       "46"
      ]
     },
     "execution_count": 31,
     "metadata": {},
     "output_type": "execute_result"
    }
   ],
   "source": [
    "kadane([23,23,-95,3])"
   ]
  },
  {
   "cell_type": "code",
   "execution_count": 32,
   "metadata": {},
   "outputs": [
    {
     "data": {
      "text/plain": [
       "9"
      ]
     },
     "execution_count": 32,
     "metadata": {},
     "output_type": "execute_result"
    }
   ],
   "source": [
    "kadane([1,2,3,-2,5])"
   ]
  },
  {
   "cell_type": "code",
   "execution_count": 33,
   "metadata": {},
   "outputs": [
    {
     "data": {
      "text/plain": [
       "-1"
      ]
     },
     "execution_count": 33,
     "metadata": {},
     "output_type": "execute_result"
    }
   ],
   "source": [
    "kadane([-4,-5,-1,-2,-4])"
   ]
  },
  {
   "cell_type": "markdown",
   "metadata": {},
   "source": [
    "# 4. Find missing number"
   ]
  },
  {
   "cell_type": "code",
   "execution_count": 36,
   "metadata": {},
   "outputs": [],
   "source": [
    "def missing_num(A, N):\n",
    "    req_sum = (N * (N+1))//2\n",
    "    return req_sum - sum(A)"
   ]
  },
  {
   "cell_type": "markdown",
   "metadata": {},
   "source": [
    "## GFG - linked list"
   ]
  },
  {
   "cell_type": "code",
   "execution_count": 38,
   "metadata": {},
   "outputs": [],
   "source": [
    "# basic - from youtube"
   ]
  },
  {
   "cell_type": "markdown",
   "metadata": {},
   "source": [
    "Node: contains a next element of list. last node has next = null. \n",
    "singly and doubly... eheh refer notes"
   ]
  },
  {
   "cell_type": "code",
   "execution_count": 40,
   "metadata": {},
   "outputs": [],
   "source": [
    "# find mid of ll\n",
    "\n",
    "# Node Class    \n",
    "class node:\n",
    "    def __init__(self, val):\n",
    "        self.data = val\n",
    "        self.next = None\n",
    "        \n",
    "# Linked List Class\n",
    "class Linked_List:\n",
    "    def __init__(self):\n",
    "        self.head = None\n",
    "    def insert(self, val):\n",
    "        if self.head == None:\n",
    "            self.head = node(val)\n",
    "        else:\n",
    "            new_node = node(val)\n",
    "            temp = self.head\n",
    "            while(temp.next):\n",
    "                temp=temp.next\n",
    "            temp.next = new_node\n",
    "def createList(arr, n):\n",
    "    lis = Linked_List()\n",
    "    for i in range(n):\n",
    "        lis.insert(arr[i])\n",
    "    return lis.head\n",
    "# if __name__=='__main__':\n",
    "#     t = int(input())\n",
    "#     for i in range(t):\n",
    "#         n = int(input())\n",
    "#         arr = list(map(int, input().strip().split()))\n",
    "#         head = createList(arr, n)\n",
    "#         print(findMid(head, n).data)\n",
    "\n",
    "\n",
    "''' This is a function problem.You only need to complete the function given below '''\n",
    "# your task is to complete this function\n",
    "# function should return index to the any valid peak element\n",
    "def findMid(head):\n",
    "    # Code here\n",
    "    # find the length\n",
    "    # calc the index and find data at that index\n",
    "    mid = (n//2) + 1 if (n%2 == 0) else (n+1)//2\n",
    "    mid -= 1\n",
    "    # print(mid, 'e')\n",
    "    cur = head\n",
    "    idx = 0\n",
    "    while cur != None:\n",
    "        if idx == mid:\n",
    "            return cur\n",
    "        cur = cur.next\n",
    "        \n",
    "        idx += 1\n",
    "    return head\n",
    "        "
   ]
  },
  {
   "cell_type": "markdown",
   "metadata": {},
   "source": [
    "# reverse a ll"
   ]
  },
  {
   "cell_type": "code",
   "execution_count": 57,
   "metadata": {},
   "outputs": [
    {
     "name": "stdout",
     "output_type": "stream",
     "text": [
      "1\n",
      "3\n",
      "1 2 3\n",
      "3 2 1 \n"
     ]
    }
   ],
   "source": [
    "\n",
    "''' This is a function problem.You only need to complete the function given below '''\n",
    "#function Template for python3\n",
    "\"\"\"\n",
    "# Node Class    \n",
    "class node:\n",
    "    def __init__(self, val):\n",
    "        self.data = val\n",
    "        self.next = None\n",
    "\"\"\"\n",
    "# your task is to complete this function\n",
    "# function shouldn't return anything\n",
    "# use self.head to access head in the method\n",
    "def reverseList(self):\n",
    "    # Code here\n",
    "    if self.head is None:\n",
    "        return None\n",
    "    cur = self.head\n",
    "    prev = None\n",
    "    while cur is not None:\n",
    "        next = cur.next\n",
    "        cur.next = prev\n",
    "        prev = cur\n",
    "        cur = next\n",
    "    self.head = prev\n",
    "        \n",
    "# Node Class    \n",
    "class node:\n",
    "    def __init__(self, val):\n",
    "        self.data = val\n",
    "        self.next = None\n",
    "        \n",
    "# Linked List Class\n",
    "class Linked_List:\n",
    "    def __init__(self):\n",
    "        self.head = None\n",
    "        self.lastNode = None\n",
    "    def insert(self, val):\n",
    "        if self.head == None:\n",
    "            self.head = node(val)\n",
    "            self.lastNode = self.head\n",
    "        else:\n",
    "            new_node = node(val)\n",
    "            self.lastNode.next = new_node\n",
    "            self.lastNode = new_node\n",
    "    def createList(self, arr, n):\n",
    "        for i in range(n):\n",
    "            self.insert(arr[i])\n",
    "        return self.head\n",
    "    reverse_List = reverseList\n",
    "    def printList(self):\n",
    "        tmp = self.head\n",
    "        while tmp is not None:\n",
    "            print(tmp.data, end=\" \")\n",
    "            tmp=tmp.next\n",
    "        print()\n",
    "if __name__=='__main__':\n",
    "    t = int(input())\n",
    "    for i in range(t):\n",
    "        n = int(input())\n",
    "        arr = list(map(int, input().strip().split()))\n",
    "        lis = Linked_List()\n",
    "        head = lis.createList(arr, n)\n",
    "        lis.reverse_List()\n",
    "        lis.printList()\n",
    "\n",
    "\n",
    "        \n",
    "        \n",
    "    "
   ]
  },
  {
   "cell_type": "markdown",
   "metadata": {},
   "source": [
    "# rotate linked list"
   ]
  },
  {
   "cell_type": "code",
   "execution_count": 5,
   "metadata": {},
   "outputs": [],
   "source": [
    "def rotateList(head, k):\n",
    "    # code here\n",
    "    if k == 0:\n",
    "        return head\n",
    "    count = 1\n",
    "    cur = head\n",
    "    while count < k and cur is not None:\n",
    "        cur = cur.next\n",
    "        count += 1\n",
    "    if cur is None:\n",
    "        return head\n",
    "    kth = cur\n",
    "    while cur.next is not None:\n",
    "        cur=cur.next\n",
    "    # last node\n",
    "    cur.next = head\n",
    "    head = kth.next\n",
    "    kth.next = None"
   ]
  },
  {
   "cell_type": "markdown",
   "metadata": {},
   "source": [
    "# rotate kth grpss"
   ]
  },
  {
   "cell_type": "code",
   "execution_count": 59,
   "metadata": {},
   "outputs": [],
   "source": [
    "def reverse(head, k):\n",
    "    \n",
    "    # Code here\n",
    "    curr = head\n",
    "    prev = None\n",
    "    fut = None\n",
    "    i = 0\n",
    "    while curr is not None and i < k:\n",
    "        fut = curr.next\n",
    "        curr.next = prev\n",
    "        prev = curr\n",
    "        curr = fut\n",
    "        i += 1\n",
    "        \n",
    "    if fut is not None:\n",
    "        head.next = reverse(fut, k)\n",
    "        \n",
    "    return prev"
   ]
  },
  {
   "cell_type": "code",
   "execution_count": 60,
   "metadata": {},
   "outputs": [
    {
     "name": "stdout",
     "output_type": "stream",
     "text": [
      "1\n",
      "3 2\n",
      "2 1 6\n",
      "1 5\n"
     ]
    },
    {
     "ename": "ValueError",
     "evalue": "2 is not in list",
     "output_type": "error",
     "traceback": [
      "\u001b[0;31m---------------------------------------------------------------------------\u001b[0m",
      "\u001b[0;31mValueError\u001b[0m                                Traceback (most recent call last)",
      "\u001b[0;32m<ipython-input-60-eaab534b2157>\u001b[0m in \u001b[0;36m<module>\u001b[0;34m\u001b[0m\n\u001b[1;32m     19\u001b[0m     \u001b[0mX\u001b[0m \u001b[0;34m=\u001b[0m \u001b[0mlist\u001b[0m\u001b[0;34m(\u001b[0m\u001b[0mmap\u001b[0m\u001b[0;34m(\u001b[0m\u001b[0mint\u001b[0m\u001b[0;34m,\u001b[0m \u001b[0minput\u001b[0m\u001b[0;34m(\u001b[0m\u001b[0;34m)\u001b[0m\u001b[0;34m.\u001b[0m\u001b[0msplit\u001b[0m\u001b[0;34m(\u001b[0m\u001b[0;34m)\u001b[0m\u001b[0;34m)\u001b[0m\u001b[0;34m)\u001b[0m\u001b[0;34m\u001b[0m\u001b[0;34m\u001b[0m\u001b[0m\n\u001b[1;32m     20\u001b[0m     \u001b[0mY\u001b[0m \u001b[0;34m=\u001b[0m \u001b[0mlist\u001b[0m\u001b[0;34m(\u001b[0m\u001b[0mmap\u001b[0m\u001b[0;34m(\u001b[0m\u001b[0mint\u001b[0m\u001b[0;34m,\u001b[0m \u001b[0minput\u001b[0m\u001b[0;34m(\u001b[0m\u001b[0;34m)\u001b[0m\u001b[0;34m.\u001b[0m\u001b[0msplit\u001b[0m\u001b[0;34m(\u001b[0m\u001b[0;34m)\u001b[0m\u001b[0;34m)\u001b[0m\u001b[0;34m)\u001b[0m\u001b[0;34m\u001b[0m\u001b[0;34m\u001b[0m\u001b[0m\n\u001b[0;32m---> 21\u001b[0;31m     \u001b[0mprint\u001b[0m\u001b[0;34m(\u001b[0m\u001b[0mfind\u001b[0m\u001b[0;34m(\u001b[0m\u001b[0mX\u001b[0m\u001b[0;34m,\u001b[0m \u001b[0mY\u001b[0m\u001b[0;34m,\u001b[0m \u001b[0mM\u001b[0m\u001b[0;34m,\u001b[0m \u001b[0mN\u001b[0m\u001b[0;34m)\u001b[0m\u001b[0;34m)\u001b[0m\u001b[0;34m\u001b[0m\u001b[0;34m\u001b[0m\u001b[0m\n\u001b[0m\u001b[1;32m     22\u001b[0m     \u001b[0mT\u001b[0m \u001b[0;34m-=\u001b[0m \u001b[0;36m1\u001b[0m\u001b[0;34m\u001b[0m\u001b[0;34m\u001b[0m\u001b[0m\n",
      "\u001b[0;32m<ipython-input-60-eaab534b2157>\u001b[0m in \u001b[0;36mfind\u001b[0;34m(X, Y, M, N)\u001b[0m\n\u001b[1;32m      4\u001b[0m     \u001b[0mY\u001b[0m\u001b[0;34m.\u001b[0m\u001b[0msort\u001b[0m\u001b[0;34m(\u001b[0m\u001b[0;34m)\u001b[0m\u001b[0;34m\u001b[0m\u001b[0;34m\u001b[0m\u001b[0m\n\u001b[1;32m      5\u001b[0m     \u001b[0;32mfor\u001b[0m \u001b[0mx\u001b[0m \u001b[0;32min\u001b[0m \u001b[0mX\u001b[0m\u001b[0;34m:\u001b[0m\u001b[0;34m\u001b[0m\u001b[0;34m\u001b[0m\u001b[0m\n\u001b[0;32m----> 6\u001b[0;31m         \u001b[0mcount\u001b[0m \u001b[0;34m+=\u001b[0m \u001b[0;34m(\u001b[0m\u001b[0mN\u001b[0m \u001b[0;34m-\u001b[0m \u001b[0mY\u001b[0m\u001b[0;34m.\u001b[0m\u001b[0mindex\u001b[0m\u001b[0;34m(\u001b[0m\u001b[0mx\u001b[0m\u001b[0;34m)\u001b[0m \u001b[0;34m+\u001b[0m \u001b[0;36m1\u001b[0m\u001b[0;34m)\u001b[0m\u001b[0;34m\u001b[0m\u001b[0;34m\u001b[0m\u001b[0m\n\u001b[0m\u001b[1;32m      7\u001b[0m     \u001b[0;32mif\u001b[0m \u001b[0;36m1\u001b[0m \u001b[0;32min\u001b[0m \u001b[0mY\u001b[0m\u001b[0;34m:\u001b[0m\u001b[0;34m\u001b[0m\u001b[0;34m\u001b[0m\u001b[0m\n\u001b[1;32m      8\u001b[0m         \u001b[0;32mfor\u001b[0m \u001b[0mx\u001b[0m \u001b[0;32min\u001b[0m \u001b[0mX\u001b[0m\u001b[0;34m:\u001b[0m\u001b[0;34m\u001b[0m\u001b[0;34m\u001b[0m\u001b[0m\n",
      "\u001b[0;31mValueError\u001b[0m: 2 is not in list"
     ]
    }
   ],
   "source": [
    "#code\n",
    "def find(X, Y, M, N):\n",
    "    count = 0\n",
    "    Y.sort()\n",
    "    for x in X:\n",
    "        count += (N - Y.index(x) + 1)\n",
    "    if 1 in Y:\n",
    "        for x in X:\n",
    "            if x != 1:\n",
    "                count += 1\n",
    "        \n",
    "    return count\n",
    "\n",
    "\n",
    "T = int(input())\n",
    "\n",
    "while T:\n",
    "    [M, N ]= list(map(int, input().split()))\n",
    "    X = list(map(int, input().split()))\n",
    "    Y = list(map(int, input().split()))\n",
    "    print(find(X, Y, M, N))\n",
    "    T -= 1"
   ]
  },
  {
   "cell_type": "code",
   "execution_count": 61,
   "metadata": {},
   "outputs": [],
   "source": [
    "d = {1:2, 2:3}"
   ]
  },
  {
   "cell_type": "code",
   "execution_count": 63,
   "metadata": {
    "scrolled": false
   },
   "outputs": [
    {
     "ename": "KeyError",
     "evalue": "3",
     "output_type": "error",
     "traceback": [
      "\u001b[0;31m---------------------------------------------------------------------------\u001b[0m",
      "\u001b[0;31mKeyError\u001b[0m                                  Traceback (most recent call last)",
      "\u001b[0;32m<ipython-input-63-0acadf17a380>\u001b[0m in \u001b[0;36m<module>\u001b[0;34m\u001b[0m\n\u001b[0;32m----> 1\u001b[0;31m \u001b[0md\u001b[0m\u001b[0;34m[\u001b[0m\u001b[0;36m3\u001b[0m\u001b[0;34m]\u001b[0m\u001b[0;34m\u001b[0m\u001b[0;34m\u001b[0m\u001b[0m\n\u001b[0m",
      "\u001b[0;31mKeyError\u001b[0m: 3"
     ]
    }
   ],
   "source": [
    "d[3]"
   ]
  },
  {
   "cell_type": "code",
   "execution_count": 66,
   "metadata": {},
   "outputs": [
    {
     "data": {
      "text/plain": [
       "[1, 3, 4, 5, 6]"
      ]
     },
     "execution_count": 66,
     "metadata": {},
     "output_type": "execute_result"
    }
   ],
   "source": [
    "a = [1,2,3,4,5,6]\n",
    "del a[1:2]\n",
    "a"
   ]
  },
  {
   "cell_type": "markdown",
   "metadata": {},
   "source": [
    "# painter's partition problem"
   ]
  },
  {
   "cell_type": "code",
   "execution_count": 71,
   "metadata": {},
   "outputs": [],
   "source": [
    "class Solution:\n",
    "    # @param A : integer\n",
    "    # @param B : integer\n",
    "    # @param C : list of integers\n",
    "    # @return an integer\n",
    "    def paint(self, A, B, C):\n",
    "        lo = max(C)\n",
    "        hi = sum(C)\n",
    "        res = hi\n",
    "        while lo <= hi:\n",
    "            mid = (lo+hi)//2\n",
    "            painter = 1\n",
    "            workload = 0\n",
    "            for c in C:\n",
    "                workload += c\n",
    "                if workload > mid:\n",
    "                    workload = c\n",
    "                    painter += 1\n",
    "            if painter <= A:\n",
    "               hi = mid - 1\n",
    "               res = mid\n",
    "            else:\n",
    "               lo = mid + 1\n",
    "        return (res*B) % 10000003"
   ]
  },
  {
   "cell_type": "markdown",
   "metadata": {},
   "source": [
    "explanation:\n",
    "\n",
    "here first we find the max and min possible time\n",
    "\n",
    "then we find the mid value of time we hope to do the task with lo and hi\n",
    "\n",
    "to accomplish a given task in time T, each painter must have at most time T worth of workload\n",
    "\n",
    "we distribute tasks to painters according to this\n",
    "\n",
    "if number of painter utilized to complete task in mid amount of time is less than the number of painters we have then we conclude than hi(max time) is less than mid. hence we set it to mid-1 and res=mid\n",
    "\n",
    "if number of painters utilized is more than we have then we conclude than min amount of time is more than mid, i.e mid + 1\n",
    "we go on until hi becomes less than lo"
   ]
  },
  {
   "cell_type": "markdown",
   "metadata": {},
   "source": [
    "# Find in rotated Sorted Array\n",
    "\n",
    "Suppose a sorted array is rotated at some pivot unknown to you beforehand.\n",
    "\n",
    "(i.e., 0 1 2 4 5 6 7  might become 4 5 6 7 0 1 2 ).\n",
    "\n",
    "You are given a target value to search. If found in the array, return its index, otherwise return -1.\n",
    "\n",
    "You may assume no duplicate exists in the array."
   ]
  },
  {
   "cell_type": "code",
   "execution_count": 1,
   "metadata": {},
   "outputs": [],
   "source": [
    "class Solution:\n",
    "    \n",
    "    \n",
    "    # findind pivot is finding index of min element\n",
    "    # arr[mid] > arr[end]\n",
    "    # The min lies in (mid, end]\n",
    "    # arr[mid] < arr[end]\n",
    "    # The min lies in [start, mid]\n",
    "    def findPivot(self, A, target):\n",
    "        lo, hi = 0, len(A)-1\n",
    "        B = A[-1]\n",
    "        while(lo<hi):\n",
    "            mid = lo + (hi-lo)//2\n",
    "            if A[mid] == target:\n",
    "                return True, mid\n",
    "            elif(A[mid]<=B):\n",
    "                hi = mid\n",
    "            else:\n",
    "                lo = mid+1\n",
    "        return False, lo\n",
    "        \n",
    "    def binS(self, A, target):\n",
    "        lo = 0\n",
    "        hi = len(A)-1\n",
    "        while lo <= hi:\n",
    "            mid = (lo+hi)//2\n",
    "            if A[mid] == target:\n",
    "                return mid\n",
    "            elif A[mid] < target:\n",
    "                lo = mid + 1\n",
    "            else:\n",
    "                hi = mid - 1\n",
    "        return -1\n",
    "        \n",
    "    # @param A : tuple of integers\n",
    "    # @param B : integer\n",
    "    # @return an integer\n",
    "    def search(self, A, B):\n",
    "        # code corner cases here\n",
    "        if not A:\n",
    "            return -1\n",
    "            \n",
    "        # find pivot\n",
    "        # a rotated array is a concatination of two sorted array\n",
    "        # i can do bin seach here as well\n",
    "        isFound, pivot = self.findPivot(A, B)\n",
    "        if isFound:\n",
    "            return pivot\n",
    "        offset = len(A[:pivot])\n",
    "        lHalf = self.binS(A[:pivot], B)\n",
    "        if lHalf >= 0:\n",
    "            return lHalf\n",
    "        else:\n",
    "            rHalf = self.binS(A[pivot:], B)\n",
    "            if rHalf > 0:\n",
    "                return offset+rHalf\n",
    "            return -1\n",
    "        \n",
    "        # bin search two parts\n",
    "        \n",
    "        \n"
   ]
  },
  {
   "cell_type": "code",
   "execution_count": 2,
   "metadata": {},
   "outputs": [],
   "source": [
    "# for duplicate case\n",
    "def search(self, A, B):\n",
    "    #find the Pivot\n",
    "    def findPoint(A):\n",
    "        lo, hi = 0, len(A)-1\n",
    "        B = A[-1]\n",
    "        while(lo<hi):\n",
    "            mid = lo + (hi-lo)//2\n",
    "            if(A[mid]<=B):\n",
    "                hi = mid\n",
    "            else:\n",
    "                lo = mid+1\n",
    "        return lo\n",
    "\n",
    "\n",
    "    def search(A,B,x):\n",
    "        if(B <= A[-1]): lo, hi = x, len(A)-1\n",
    "        else: lo, hi =0, x-1\n",
    "        if(hi<0):return(-1)\n",
    "        while(lo<hi):\n",
    "            mid = lo+(hi-lo)//2\n",
    "            if(A[mid]>=B): hi = mid\n",
    "            else: lo = mid+1\n",
    "        if(A[lo]==B):return(lo)\n",
    "        return(-1)\n",
    "\n",
    "    return search(A,B,findPoint(A))"
   ]
  },
  {
   "cell_type": "markdown",
   "metadata": {},
   "source": [
    "# Median in two sorted array\n",
    "\n",
    "There are two sorted arrays A and B of size m and n respectively.\n",
    "\n",
    "Find the median of the two sorted arrays ( The median of the array formed by merging both the arrays ).\n",
    "\n",
    "The overall run time complexity should be O(log (m+n))."
   ]
  },
  {
   "cell_type": "code",
   "execution_count": 3,
   "metadata": {},
   "outputs": [],
   "source": [
    "class Solution:\n",
    "    # @param A : tuple of integers\n",
    "    # @param B : tuple of integers\n",
    "    # @return a double\n",
    "    def findMedianSortedArrays(self, A, B):\n",
    "        m, n = len(A), len(B)\n",
    "        if m > n:\n",
    "            A, B, m, n = B, A, n, m\n",
    "        imin, imax, half_len = 0, m, (m + n + 1) / 2\n",
    "        while imin <= imax:\n",
    "            i = (imin + imax) / 2\n",
    "            j = half_len - i\n",
    "            if i < m and B[j-1] > A[i]:\n",
    "                imin = i + 1\n",
    "            elif i > 0 and A[i-1] > B[j]:\n",
    "                imax = i - 1\n",
    "            else:\n",
    "                if i == 0: max_of_left = B[j-1]\n",
    "                elif j == 0: max_of_left = A[i-1]\n",
    "                else: max_of_left = max(A[i-1], B[j-1])\n",
    "\n",
    "                if (m + n) % 2 == 1:\n",
    "                    return max_of_left\n",
    "\n",
    "                if i == m: min_of_right = B[j]\n",
    "                elif j == n: min_of_right = A[i]\n",
    "                else: min_of_right = min(A[i], B[j])\n",
    "\n",
    "                return (max_of_left + min_of_right) / 2.0\n",
    "        '''\n",
    "        A=list(A)\n",
    "        A.extend(B)\n",
    "        A = sorted(A)\n",
    "        l = len(A)\n",
    "        if l%2==0:\n",
    "            return (A[int(l/2)-1]+A[int(l/2)])/2.0\n",
    "        else:\n",
    "            return A[int(l/2)]\n",
    "        '''"
   ]
  },
  {
   "cell_type": "code",
   "execution_count": 8,
   "metadata": {},
   "outputs": [
    {
     "data": {
      "text/plain": [
       "'12 34'"
      ]
     },
     "execution_count": 8,
     "metadata": {},
     "output_type": "execute_result"
    }
   ],
   "source": [
    "a = ' 12 34 '\n",
    "a = a.strip()\n",
    "a"
   ]
  },
  {
   "cell_type": "code",
   "execution_count": 16,
   "metadata": {},
   "outputs": [
    {
     "data": {
      "text/plain": [
       "2"
      ]
     },
     "execution_count": 16,
     "metadata": {},
     "output_type": "execute_result"
    }
   ],
   "source": [
    "a = int(bin(2)[2:])\n",
    "b = int(bin(7)[2:])\n",
    "len(str(a^b).replace('0', ''))"
   ]
  },
  {
   "cell_type": "markdown",
   "metadata": {},
   "source": [
    "# You are given 3 arrays A, B and C. All 3 of the arrays are sorted.\n",
    "\n",
    "Find i, j, k such that :\n",
    "max(abs(A[i] - B[j]), abs(B[j] - C[k]), abs(C[k] - A[i])) is minimized.\n",
    "Return the minimum max(abs(A[i] - B[j]), abs(B[j] - C[k]), abs(C[k] - A[i]))"
   ]
  },
  {
   "cell_type": "code",
   "execution_count": 19,
   "metadata": {},
   "outputs": [],
   "source": [
    "class Solution:\n",
    "    # @param A : tuple of integers\n",
    "    # @param B : tuple of integers\n",
    "    # @param C : tuple of integers\n",
    "    # @return an integer\n",
    "    def minimize(self, A, B, C):\n",
    "        pA = 0\n",
    "        pB = 0\n",
    "        pC = 0\n",
    "        minmax = float(\"inf\")\n",
    "        while pA < len(A) and pB < len(B) and pC < len(C):\n",
    "            minbmax = min(minmax, max(abs(A[pA] - B[pB]), abs(B[pB] - C[pC]), abs(C[pC] - A[pA])))\n",
    "            if A[pA] == min(A[pA], B[pB], C[pC]):\n",
    "                pA += 1\n",
    "            elif B[pB] == min(A[pA], B[pB], C[pC]):\n",
    "                pB += 1\n",
    "            else:\n",
    "                pC += 1\n",
    "        \n",
    "        return minmax"
   ]
  },
  {
   "cell_type": "markdown",
   "metadata": {},
   "source": [
    "# Largest rect between histograms"
   ]
  },
  {
   "cell_type": "code",
   "execution_count": 10,
   "metadata": {},
   "outputs": [],
   "source": [
    "class Solution:\n",
    "    # @param A : list of integers\n",
    "    # @return an integer\n",
    "    def largestRectangleArea(self, A):\n",
    "        # stack\n",
    "        indices = list()\n",
    "        ind = 0\n",
    "        area, max_area = 0, 0\n",
    "        l =len(A)\n",
    "        while ind < l:\n",
    "            if (not indices) or (A[indices[-1]] <= A[ind]):\n",
    "                indices.append(ind)\n",
    "                ind += 1\n",
    "            else:\n",
    "                top = indices.pop()\n",
    "                area = hist[top] * ((ind - indices[-1] - 1) if indices else ind)\n",
    "                max_area = max(area, max_area)\n",
    "\n",
    "        while indices:\n",
    "            top = indices.pop()\n",
    "            area = hist[top] * ((ind - indices[-1] - 1) if indices else ind)\n",
    "\n",
    "            max_area = max(area, max_area)\n",
    "        return max_area"
   ]
  },
  {
   "cell_type": "markdown",
   "metadata": {},
   "source": [
    "pending\n",
    "\n",
    "https://www.geeksforgeeks.org/largest-rectangular-area-in-a-histogram-set-1/"
   ]
  },
  {
   "cell_type": "markdown",
   "metadata": {},
   "source": [
    "# Sliding Window Maximum"
   ]
  },
  {
   "cell_type": "code",
   "execution_count": null,
   "metadata": {},
   "outputs": [],
   "source": [
    "class Solution:\n",
    "    # @param A : tuple of integers\n",
    "    # @param B : integer\n",
    "    # @return a list of integers\n",
    "    def slidingMaximum(self, A, B):\n",
    "        if B >= len(A):\n",
    "            return [max(A)]\n",
    "    \n",
    "        result = [0] * (len(A)-B+1)\n",
    "        deque = []\n",
    "    \n",
    "        for i in range(len(A)):\n",
    "            if deque and deque[0] == i - B:\n",
    "                del deque[0]\n",
    "            while deque and A[deque[-1]] < A[i]:\n",
    "                del deque[-1]\n",
    "            deque.append(i)\n",
    "            if i + 1 >= B:\n",
    "                result[i - B + 1] = A[deque[0]]\n",
    "    \n",
    "        return result"
   ]
  },
  {
   "cell_type": "markdown",
   "metadata": {},
   "source": [
    "# is Valid Sudoku"
   ]
  },
  {
   "cell_type": "code",
   "execution_count": 30,
   "metadata": {},
   "outputs": [],
   "source": [
    "class Solution:\n",
    "    # @param A : tuple of strings\n",
    "    # @return an integer\n",
    "    def isValidSudoku(self, A):\n",
    "        for i in range(9):\n",
    "            if not self.isValidArray(list(A[i])) \\\n",
    "            or not self.isValidArray([A[j][i] for j in range(9)]) \\\n",
    "            or not self.isValidArray([A[3*(i//3) + j//3][3*(i%3) + j%3] for j in range(9)]):\n",
    "                return 0\n",
    "        return 1\n",
    "        \n",
    "    def isValidArray(self, arr):\n",
    "        s = set()\n",
    "        for x in arr:\n",
    "            if x in s:\n",
    "                return False\n",
    "            if x != '.':\n",
    "                s.add(x)\n",
    "        return True"
   ]
  },
  {
   "cell_type": "markdown",
   "metadata": {},
   "source": [
    "# Points on straight Line"
   ]
  },
  {
   "cell_type": "code",
   "execution_count": 31,
   "metadata": {},
   "outputs": [],
   "source": [
    "# points on a straight line\n",
    "class Solution:\n",
    "    # @param A : list of integers\n",
    "    # @param B : list of integers\n",
    "    # @return an integer\n",
    "    def maxPoints(self, A, B):\n",
    "        n = len(A)\n",
    "        if (n<=2):\n",
    "            return n\n",
    "        m = 0 #result value\n",
    "        for i in range(n):\n",
    "            l = {}  #every time reset the dict\n",
    "            dup = 1 #count the duplicates\n",
    "            for j in range(n):\n",
    "                if (A[i]==A[j] and B[i]==B[j] and i!=j):        \n",
    "                    dup+=1  #count duplicates\n",
    "                elif i!=j :\n",
    "                    if (A[i]==A[j]):  #vertical line\n",
    "                        l['v'] = l.get('v',0) + 1\n",
    "                    elif (B[i]==B[j]): # horizontal line\n",
    "                        l['h'] = l.get('h',0) + 1\n",
    "                    else:   #regular slope\n",
    "                        slope = 1.0*(B[i]-B[j])/(A[i]-A[j])\n",
    "                        l[slope] = l.get(slope,0)+1\n",
    "            if (len(l)>0): \n",
    "                m = max(m,max(l.values())+dup)\n",
    "            else: #if all points are duplicates, l is empty.\n",
    "                m = max(m,dup)\n",
    "        return m"
   ]
  },
  {
   "cell_type": "markdown",
   "metadata": {},
   "source": [
    "# find minimum window\n",
    "Input: S = \"ADOBECODEBANC\", T = \"ABC\"\n",
    "\n",
    "Output: \"BANC\""
   ]
  },
  {
   "cell_type": "code",
   "execution_count": 32,
   "metadata": {},
   "outputs": [],
   "source": [
    "from collections import deque\n",
    "class Solution:\n",
    "    # @param A : string\n",
    "    # @param B : string\n",
    "    # @return a strings\n",
    "    def minWindow(self, A, B):\n",
    "        if not A or not B:\n",
    "            return ''\n",
    "        required_chars = {}\n",
    "        for b in B:\n",
    "            if b not in required_chars:\n",
    "                required_chars[b] = deque()\n",
    "            required_chars[b].append(-1)\n",
    "        n_needed = len(B)\n",
    "        \n",
    "        best = None\n",
    "        cur_min = None\n",
    "        for idx, a in enumerate(A):\n",
    "            if a in required_chars:\n",
    "                old_idx = required_chars[a].popleft()\n",
    "                required_chars[a].append(idx)\n",
    "                if n_needed != 0 and old_idx == -1:\n",
    "                    n_needed -= 1\n",
    "                if n_needed == 0 and (cur_min is None or old_idx == cur_min):\n",
    "                    cur_min = min([a[0] for a in required_chars.values()])\n",
    "                    if best is None or best[1] - best[0] > idx - cur_min:\n",
    "                        best = [cur_min, idx]\n",
    "        if best is None:\n",
    "            return ''\n",
    "        return A[best[0]:best[1]+1]"
   ]
  },
  {
   "cell_type": "code",
   "execution_count": null,
   "metadata": {},
   "outputs": [],
   "source": [
    "Backtracking Pseudocode\n",
    "A pseudocode for the above question would be :\n",
    "\n",
    "        boolean pathFound(Position p) {\n",
    "            if (p is finish) return true;\n",
    "            \n",
    "            foreach option O from p {\n",
    "                boolean isThereAPath = pathFound(O);\n",
    "                if (isThereAPath) return true; // We found a path using option O\n",
    "            }\n",
    "            // We have tried all options from this position and none of the options lead to finish. \n",
    "            // Hence there is no solution possible to finish\n",
    "            return false;\n",
    "        }\n",
    "In general, the usual pseudocode for any backtracking solution is :\n",
    "\n",
    "        boolean solve(Node n) {\n",
    "            if n is a goal node, return true\n",
    "            \n",
    "            foreach option O possible from n {\n",
    "                if solve(O) succeeds, return true\n",
    "            }\n",
    "            return false\n",
    "        }\n",
    "Now, head over to the assignments, and try out some of the problems. Most of them involve backtracking."
   ]
  },
  {
   "cell_type": "markdown",
   "metadata": {},
   "source": [
    "# permutation recursive"
   ]
  },
  {
   "cell_type": "code",
   "execution_count": 37,
   "metadata": {},
   "outputs": [],
   "source": [
    "def rec(res, cur, A, n):\n",
    "    # made a permutation with A\n",
    "    if not A:\n",
    "        res.append(cur)\n",
    "        return\n",
    "    for i in range(len(A)):\n",
    "        rec(res, cur + [A[i]], A[:i]+A[i+1:])\n",
    "# @param A : list of integers\n",
    "# @return a list of list of integers\n",
    "def permute(A, n):\n",
    "    res = []\n",
    "    rec(res, [], A, n)\n",
    "    return res"
   ]
  },
  {
   "cell_type": "code",
   "execution_count": 40,
   "metadata": {},
   "outputs": [
    {
     "data": {
      "text/plain": [
       "[[1, 2, 3], [1, 3, 2], [2, 1, 3], [2, 3, 1], [3, 1, 2], [3, 2, 1]]"
      ]
     },
     "execution_count": 40,
     "metadata": {},
     "output_type": "execute_result"
    }
   ],
   "source": [
    "permute([1,2,3], 3)"
   ]
  },
  {
   "cell_type": "code",
   "execution_count": 49,
   "metadata": {},
   "outputs": [],
   "source": [
    "def permutations(string, step = 0):\n",
    "\n",
    "    # if we've gotten to the end, print the permutation\n",
    "    if step == len(string):\n",
    "        print( \"\".join(string))\n",
    "\n",
    "    # everything to the right of step has not been swapped yet\n",
    "    for i in range(step, len(string)):\n",
    "\n",
    "        # copy the string (store as array)\n",
    "        string_copy = list(string)\n",
    "\n",
    "        # swap the current index with the step\n",
    "        string_copy[step], string_copy[i] = string_copy[i], string_copy[step]\n",
    "\n",
    "        # recurse on the portion of the string that has not been swapped yet (now it's index will begin with step + 1)\n",
    "        permutations(string_copy, step + 1)"
   ]
  },
  {
   "cell_type": "code",
   "execution_count": 50,
   "metadata": {},
   "outputs": [
    {
     "name": "stdout",
     "output_type": "stream",
     "text": [
      "abc\n",
      "acb\n",
      "bac\n",
      "bca\n",
      "cba\n",
      "cab\n"
     ]
    }
   ],
   "source": [
    "permutations('abc')"
   ]
  },
  {
   "cell_type": "code",
   "execution_count": 51,
   "metadata": {},
   "outputs": [],
   "source": [
    "# Given a string s, partition s such that every string of the partition is a palindrome.\n",
    "\n",
    "class Solution:\n",
    "    # @param A : string\n",
    "    # @return a list of list of strings\n",
    "    def partition(self, A):\n",
    "        def checkpal(S):\n",
    "            return S == S[::-1]\n",
    "            \n",
    "        def recur(S, res, cur):\n",
    "            if len(S)==0:\n",
    "                res+=[cur]\n",
    "            else:\n",
    "                for i in range(1, len(S)+1):\n",
    "                    if checkpal(S[:i]):\n",
    "                        recur(S[i:], res, cur+[S[:i]])\n",
    "        \n",
    "        res = []\n",
    "        recur(A, res, [])\n",
    "        return res"
   ]
  },
  {
   "cell_type": "code",
   "execution_count": 61,
   "metadata": {},
   "outputs": [
    {
     "data": {
      "text/plain": [
       "[['Q', '.', '.', '.'],\n",
       " ['Q', '.', '.', '.'],\n",
       " ['Q', '.', '.', '.'],\n",
       " ['Q', '.', '.', '.']]"
      ]
     },
     "execution_count": 61,
     "metadata": {},
     "output_type": "execute_result"
    }
   ],
   "source": [
    "res = [(0, 1),\n",
    "(1, 3),\n",
    "(2, 0),\n",
    "(3, 2)]\n",
    "n=4\n",
    "\n",
    "string = [['.'] * n] * n\n",
    "# for r,c in res:\n",
    "#     print(r,c)\n",
    "# #     string[r][c] = 'Q'\n",
    "# string[r][c] = 'Q'\n",
    "# string[r]\n",
    "# string[c]\n",
    "string"
   ]
  },
  {
   "cell_type": "code",
   "execution_count": 65,
   "metadata": {},
   "outputs": [],
   "source": [
    "a = [['.' for x in range(n)] for y in range(n)] "
   ]
  },
  {
   "cell_type": "code",
   "execution_count": 67,
   "metadata": {},
   "outputs": [],
   "source": [
    "a[0][0] = 'Q'"
   ]
  },
  {
   "cell_type": "code",
   "execution_count": 68,
   "metadata": {},
   "outputs": [
    {
     "data": {
      "text/plain": [
       "[['Q', '.', '.', '.'],\n",
       " ['.', '.', '.', '.'],\n",
       " ['.', '.', '.', '.'],\n",
       " ['.', '.', '.', '.']]"
      ]
     },
     "execution_count": 68,
     "metadata": {},
     "output_type": "execute_result"
    }
   ],
   "source": [
    "a"
   ]
  },
  {
   "cell_type": "markdown",
   "metadata": {},
   "source": [
    "# MAXHEAP"
   ]
  },
  {
   "cell_type": "code",
   "execution_count": 71,
   "metadata": {},
   "outputs": [
    {
     "name": "stdout",
     "output_type": "stream",
     "text": [
      "[0, 95, 10, 21, 3]\n",
      "95\n"
     ]
    }
   ],
   "source": [
    "# Python MaxHeap\n",
    "# public functions: push, peek, pop\n",
    "# private functions: __swap, __floatUp, __bubbleDown\n",
    "\n",
    "class MaxHeap:\n",
    "\tdef __init__(self, items=[]):\n",
    "\t\tsuper().__init__()\n",
    "\t\tself.heap = [0]\n",
    "\t\tfor i in items:\n",
    "\t\t\tself.heap.append(i)\n",
    "\t\t\tself.__floatUp(len(self.heap) - 1)\n",
    "\n",
    "    # add element at the end of array and float it up to proper position\n",
    "\tdef push(self, data):\n",
    "\t\tself.heap.append(data)\n",
    "\t\tself.__floatUp(len(self.heap) - 1)\n",
    "    #number 1 valule of heap (max value)\n",
    "\tdef peek(self):\n",
    "\t\tif self.heap[1]:\n",
    "\t\t\treturn self.heap[1]\n",
    "\t\telse:\n",
    "\t\t\treturn False\n",
    "\t\n",
    "    # swap the top with end of array(last el) and remove it. Bubble down top element at proper position\n",
    "\tdef pop(self):\n",
    "\t\tif len(self.heap) > 2:\n",
    "\t\t\tself.__swap(1, len(self.heap) - 1)\n",
    "\t\t\tmax = self.heap.pop()\n",
    "\t\t\tself.__bubbleDown(1)\n",
    "\t\telif len(self.heap) == 2:\n",
    "\t\t\tmax = self.heap.pop()\n",
    "\t\telse: \n",
    "\t\t\tmax = False\n",
    "\t\treturn max\n",
    "\n",
    "\tdef __swap(self, i, j):\n",
    "\t\tself.heap[i], self.heap[j] = self.heap[j], self.heap[i]\n",
    "\n",
    "\tdef __floatUp(self, index):\n",
    "\t\tparent = index//2\n",
    "\t\tif index <= 1:\n",
    "\t\t\treturn\n",
    "\t\telif self.heap[index] > self.heap[parent]:\n",
    "\t\t\tself.__swap(index, parent)\n",
    "\t\t\tself.__floatUp(parent)\n",
    "\n",
    "    # called max heapify\n",
    "\tdef __bubbleDown(self, index):\n",
    "\t\tleft = index * 2\n",
    "\t\tright = index * 2 + 1\n",
    "\t\tlargest = index\n",
    "\t\tif len(self.heap) > left and self.heap[largest] < self.heap[left]:\n",
    "\t\t\tlargest = left\n",
    "\t\tif len(self.heap) > right and self.heap[largest] < self.heap[right]:\n",
    "\t\t\tlargest = right\n",
    "\t\tif largest != index:\n",
    "\t\t\tself.__swap(index, largest)\n",
    "\t\t\tself.__bubbleDown(largest)\n",
    "\n",
    "m = MaxHeap([95, 3, 21])\n",
    "m.push(10)\n",
    "print(str(m.heap[0:len(m.heap)]))\n",
    "print(str(m.pop()))"
   ]
  },
  {
   "cell_type": "markdown",
   "metadata": {},
   "source": [
    "parent(i) is at i/2\n",
    "\n",
    "left(i) is i*2\n",
    "\n",
    "right(i) is i*2+1\n"
   ]
  },
  {
   "cell_type": "markdown",
   "metadata": {},
   "source": [
    "# merge k sorted linked lists"
   ]
  },
  {
   "cell_type": "code",
   "execution_count": 72,
   "metadata": {},
   "outputs": [],
   "source": [
    "#  Definition for singly-linked list.\n",
    "# class ListNode:\n",
    "#     def __init__(self, x):\n",
    "#         self.val = x\n",
    "#         self.next = None\n",
    "from heapq import heapify,heappush,heappop\n",
    "class Solution:\n",
    "    # @param A : list of linked list\n",
    "    # @return the head node in the linked list\n",
    "    def mergeKLists(self, A):\n",
    "        heap=[]\n",
    "        heapify(heap)\n",
    "        for i in A:\n",
    "            while i!=None:\n",
    "                heappush(heap,i.val)\n",
    "                i=i.next\n",
    "        n=len(heap)\n",
    "        head=ListNode(0)\n",
    "        ans=head\n",
    "        for i in range(n):\n",
    "            if i==n-1:\n",
    "                head.val=heappop(heap)\n",
    "                head.next=None\n",
    "            else:\n",
    "                head.val=heappop(heap)\n",
    "                head.next=ListNode(0)\n",
    "                head=head.next\n",
    "        return ans"
   ]
  },
  {
   "cell_type": "code",
   "execution_count": 11,
   "metadata": {},
   "outputs": [],
   "source": [
    "# Python program to demonstrate insert operation in binary search tree "
   ]
  },
  {
   "cell_type": "code",
   "execution_count": 73,
   "metadata": {},
   "outputs": [
    {
     "name": "stdout",
     "output_type": "stream",
     "text": [
      "25\n",
      "35\n",
      "45\n",
      "55\n",
      "65\n",
      "75\n",
      "85\n"
     ]
    }
   ],
   "source": [
    "#Defining each node containing some value and its children\n",
    "class TreeNode: \n",
    "    def __init__(self,key): \n",
    "        self.left = None\n",
    "        self.right = None\n",
    "        self.data = key \n",
    "\n",
    "# Function to insert node in tree recursively\n",
    "def insertNode(root,node): \n",
    "    if root is None: \n",
    "        root = node \n",
    "    else: \n",
    "        if root.data < node.data: \n",
    "            if root.right is None: \n",
    "                root.right = node \n",
    "            else: \n",
    "                insertNode(root.right, node) \n",
    "        else: \n",
    "            if root.left is None: \n",
    "                root.left = node \n",
    "            else: \n",
    "                insertNode(root.left, node) \n",
    "\n",
    "# Function to print inorder traversal recursively\n",
    "def inOrderTraversal(root): \n",
    "    if root: \n",
    "        inOrderTraversal(root.left) \n",
    "        print(root.data) \n",
    "        inOrderTraversal(root.right) \n",
    "\n",
    "\n",
    "\n",
    "# Creating a new BST with root as 50\n",
    "r = TreeNode(55) \n",
    "insertNode(r,TreeNode(35)) \n",
    "insertNode(r,TreeNode(25)) \n",
    "insertNode(r,TreeNode(45)) \n",
    "insertNode(r,TreeNode(75)) \n",
    "insertNode(r,TreeNode(65)) \n",
    "insertNode(r,TreeNode(85)) \n",
    "\n",
    "# Print inoder traversal of the BST \n",
    "inOrderTraversal(r)"
   ]
  },
  {
   "cell_type": "markdown",
   "metadata": {},
   "source": [
    "# staircase problems"
   ]
  },
  {
   "cell_type": "code",
   "execution_count": 6,
   "metadata": {},
   "outputs": [],
   "source": [
    "# Its greeeedy"
   ]
  },
  {
   "cell_type": "code",
   "execution_count": 7,
   "metadata": {},
   "outputs": [],
   "source": [
    "def num_ways(n):\n",
    "    if n == 0 or n == 1:\n",
    "        return 1\n",
    "    else:\n",
    "        return num_ways(n - 1) + num_ways(n - 2)        "
   ]
  },
  {
   "cell_type": "code",
   "execution_count": 8,
   "metadata": {},
   "outputs": [
    {
     "name": "stdout",
     "output_type": "stream",
     "text": [
      "5\n"
     ]
    }
   ],
   "source": [
    "print(num_ways(4))"
   ]
  },
  {
   "cell_type": "code",
   "execution_count": 9,
   "metadata": {},
   "outputs": [],
   "source": [
    "# Naive... Not efficient"
   ]
  },
  {
   "cell_type": "code",
   "execution_count": 10,
   "metadata": {},
   "outputs": [],
   "source": [
    "# Dynamic Programming"
   ]
  },
  {
   "cell_type": "code",
   "execution_count": 11,
   "metadata": {},
   "outputs": [],
   "source": [
    "# If you observe closely, it's fibonacci"
   ]
  },
  {
   "cell_type": "code",
   "execution_count": 25,
   "metadata": {},
   "outputs": [],
   "source": [
    "def nw_dyn(n):\n",
    "    if n == 1 or n == 0:\n",
    "        return 1;\n",
    "    else:\n",
    "        ways = list()\n",
    "        ways.append(1)\n",
    "        ways.append(1)\n",
    "        for i in range(2, n + 1):\n",
    "            ways.append(ways[i - 1] + ways[i - 2])\n",
    "        return ways[n]"
   ]
  },
  {
   "cell_type": "code",
   "execution_count": 26,
   "metadata": {},
   "outputs": [
    {
     "data": {
      "text/plain": [
       "5"
      ]
     },
     "execution_count": 26,
     "metadata": {},
     "output_type": "execute_result"
    }
   ],
   "source": [
    "nw_dyn(4)"
   ]
  },
  {
   "cell_type": "code",
   "execution_count": 27,
   "metadata": {},
   "outputs": [],
   "source": [
    "# Variation: Given number of steps possible X"
   ]
  },
  {
   "cell_type": "code",
   "execution_count": 28,
   "metadata": {},
   "outputs": [],
   "source": [
    "# recursive rel"
   ]
  },
  {
   "cell_type": "code",
   "execution_count": 29,
   "metadata": {},
   "outputs": [],
   "source": [
    "X = [1, 3, 5]"
   ]
  },
  {
   "cell_type": "code",
   "execution_count": 30,
   "metadata": {},
   "outputs": [],
   "source": [
    "def num_ways_X(n):\n",
    "    if n == 0:\n",
    "        return 1\n",
    "    else:\n",
    "        total = 0\n",
    "        for i in X:\n",
    "            if n - i >= 0:\n",
    "                total += num_ways_X(n - i)\n",
    "        return total"
   ]
  },
  {
   "cell_type": "code",
   "execution_count": 32,
   "metadata": {},
   "outputs": [
    {
     "name": "stdout",
     "output_type": "stream",
     "text": [
      "3\n"
     ]
    }
   ],
   "source": [
    "print(num_ways_X(4))"
   ]
  },
  {
   "cell_type": "code",
   "execution_count": 33,
   "metadata": {},
   "outputs": [],
   "source": [
    "# DP: bottom up approach"
   ]
  },
  {
   "cell_type": "code",
   "execution_count": 35,
   "metadata": {},
   "outputs": [],
   "source": [
    "def num_ways_X_BU(n):\n",
    "    if n == 0:\n",
    "        return 1\n",
    "    else:\n",
    "        ways = list()\n",
    "        ways.append(1)\n",
    "        for i in range(1, n + 1):\n",
    "            total = 0\n",
    "            for j in X:\n",
    "                if i - j >= 0:\n",
    "                    total += num_ways_X(i - j)\n",
    "            ways.append(total)\n",
    "        return ways[n]\n",
    "        "
   ]
  },
  {
   "cell_type": "code",
   "execution_count": 36,
   "metadata": {
    "scrolled": true
   },
   "outputs": [
    {
     "data": {
      "text/plain": [
       "3"
      ]
     },
     "execution_count": 36,
     "metadata": {},
     "output_type": "execute_result"
    }
   ],
   "source": [
    "num_ways_X_BU(4)"
   ]
  },
  {
   "cell_type": "markdown",
   "metadata": {},
   "source": [
    "# Quick Sort"
   ]
  },
  {
   "cell_type": "code",
   "execution_count": null,
   "metadata": {},
   "outputs": [],
   "source": [
    "# pivot: items used for comparing to create two partition\n",
    "# often first item is pivot.. or last item... or randomly\n",
    "# or median of 3 pivots.. first middle n last\n",
    "# put pivot value in 0th position\n",
    "# border: left->smaller than pivot\n",
    "# if values less than pivot, swap with border value else do nothng\n",
    "# when done, swap the pivot value to its original position\n",
    "# does partitioned.\n",
    "# call recursively on both the partitions"
   ]
  },
  {
   "cell_type": "code",
   "execution_count": 61,
   "metadata": {},
   "outputs": [],
   "source": [
    "# worst case O(n^2), best nlog(n)"
   ]
  },
  {
   "cell_type": "code",
   "execution_count": null,
   "metadata": {},
   "outputs": [],
   "source": [
    "# performance depends on pivot value"
   ]
  },
  {
   "cell_type": "code",
   "execution_count": 62,
   "metadata": {},
   "outputs": [],
   "source": [
    "def quick_sort(A, low, hi):\n",
    "\tif hi-low < threshold and low < hi:\n",
    "\t\tquick_selection(A, low, hi)\n",
    "\telif low < hi:\n",
    "\t\tp = partition(A, low, hi)\n",
    "\t\tquick_sort(A, low, p - 1)\n",
    "\t\tquick_sort(A, p + 1, hi)\n",
    "\t\n",
    "def get_pivot(A, low, hi):\n",
    "\tmid = (hi + low) // 2\n",
    "\ts = sorted([A[low], A[mid], A[hi]])\n",
    "\tif s[1] == A[low]:\n",
    "\t\treturn low\n",
    "\telif s[1] == A[mid]:\n",
    "\t\treturn mid\n",
    "\treturn hi\n",
    "\t\n",
    "def partition(A, low, hi):\n",
    "\tpivotIndex = get_pivot(A, low, hi)\n",
    "\tpivotValue = A[pivotIndex]\n",
    "\tA[pivotIndex], A[low] = A[low], A[pivotIndex]\n",
    "\tborder = low\n",
    "\n",
    "\tfor i in range(low, hi+1):\n",
    "\t\tif A[i] < pivotValue:\n",
    "\t\t\tborder += 1\n",
    "\t\t\tA[i], A[border] = A[border], A[i]\n",
    "\tA[low], A[border] = A[border], A[low]\n",
    "\n",
    "\treturn (border)\n",
    "\t\n",
    "def quick_selection(x, first, last):\n",
    "\tfor i in range (first, last):\n",
    "\t\tminIndex = i\n",
    "\t\tfor j in range (i+1, last+1):\n",
    "\t\t\tif x[j] < x[minIndex]:\n",
    "\t\t\t\tminIndex = j\n",
    "\t\tif minIndex != i:\n",
    "\t\t\tx[i], x[minIndex] = x[minIndex], x[i]"
   ]
  },
  {
   "cell_type": "code",
   "execution_count": 71,
   "metadata": {},
   "outputs": [],
   "source": [
    "def quick_sort(a_list):\n",
    "#     single element left, return..\n",
    "    if len(a_list) < 2: return a_list\n",
    "#     sort left half and call recursively. Here pivot is first element\n",
    "    lesser = quick_sort([x for x in a_list[1:] if x <= a_list[0]])\n",
    "#     sort right half and call recursively. Here pivot is first element\n",
    "    bigger = quick_sort([x for x in a_list[1:] if x >  a_list[0]])\n",
    "#     combine the arrays.. left right and pivot.\n",
    "    return sum([lesser, [a_list[0]], bigger], [])"
   ]
  },
  {
   "cell_type": "code",
   "execution_count": 72,
   "metadata": {},
   "outputs": [
    {
     "data": {
      "text/plain": [
       "[-6, -3, 1, 2, 3, 5, 6, 8, 9]"
      ]
     },
     "execution_count": 72,
     "metadata": {},
     "output_type": "execute_result"
    }
   ],
   "source": [
    "quick_sort([ 9, -3, 5, 2, 6, 8, -6, 1, 3])"
   ]
  },
  {
   "cell_type": "markdown",
   "metadata": {},
   "source": [
    "# MERGE SORT"
   ]
  },
  {
   "cell_type": "code",
   "execution_count": 6,
   "metadata": {},
   "outputs": [],
   "source": [
    "# Python program for implementation of MergeSort \n",
    "def mergeSort(arr): \n",
    "    if len(arr) >1: \n",
    "        mid = len(arr)//2 #Finding the mid of the array \n",
    "        L = arr[:mid] # Dividing the array elements  \n",
    "        R = arr[mid:] # into 2 halves \n",
    "  \n",
    "        mergeSort(L) # Sorting the first half \n",
    "        mergeSort(R) # Sorting the second half \n",
    "  \n",
    "        i = j = k = 0\n",
    "          \n",
    "        # Copy data to temp arrays L[] and R[] \n",
    "        while i < len(L) and j < len(R): \n",
    "            if L[i] < R[j]: \n",
    "                arr[k] = L[i] \n",
    "                i+=1\n",
    "            else: \n",
    "                arr[k] = R[j] \n",
    "                j+=1\n",
    "            k+=1\n",
    "          \n",
    "        # Checking if any element was left \n",
    "        while i < len(L): \n",
    "            arr[k] = L[i] \n",
    "            i+=1\n",
    "            k+=1\n",
    "          \n",
    "        while j < len(R): \n",
    "            arr[k] = R[j] \n",
    "            j+=1\n",
    "            k+=1"
   ]
  },
  {
   "cell_type": "code",
   "execution_count": 8,
   "metadata": {},
   "outputs": [],
   "source": [
    "arr = [23,5,6,7,2,1,7]\n",
    "mergeSort(arr)"
   ]
  },
  {
   "cell_type": "code",
   "execution_count": 9,
   "metadata": {},
   "outputs": [
    {
     "name": "stdout",
     "output_type": "stream",
     "text": [
      "[1, 2, 5, 6, 7, 7, 23]\n"
     ]
    }
   ],
   "source": [
    "print(arr)"
   ]
  },
  {
   "cell_type": "markdown",
   "metadata": {},
   "source": [
    "# selection sort"
   ]
  },
  {
   "cell_type": "code",
   "execution_count": 13,
   "metadata": {},
   "outputs": [],
   "source": [
    "A = [64, 25, 12, 22, 11] \n",
    "  \n",
    "# Traverse through all array elements \n",
    "for i in range(len(A)): \n",
    "      \n",
    "    # Find the minimum element in remaining  \n",
    "    # unsorted array \n",
    "    min_idx = i \n",
    "    for j in range(i+1, len(A)): \n",
    "        if A[min_idx] > A[j]: \n",
    "            min_idx = j \n",
    "              \n",
    "    # Swap the found minimum element with  \n",
    "    # the first element         \n",
    "    A[i], A[min_idx] = A[min_idx], A[i] "
   ]
  },
  {
   "cell_type": "markdown",
   "metadata": {},
   "source": [
    "# bubble sort"
   ]
  },
  {
   "cell_type": "code",
   "execution_count": 14,
   "metadata": {},
   "outputs": [],
   "source": [
    "# An optimized version of Bubble Sort \n",
    "def bubbleSort(arr): \n",
    "    n = len(arr) \n",
    "   \n",
    "    # Traverse through all array elements \n",
    "    for i in range(n): \n",
    "        swapped = False\n",
    "  \n",
    "        # Last i elements are already \n",
    "        #  in place \n",
    "        for j in range(0, n-i-1): \n",
    "   \n",
    "            # traverse the array from 0 to \n",
    "            # n-i-1. Swap if the element  \n",
    "            # found is greater than the \n",
    "            # next element \n",
    "            if arr[j] > arr[j+1] : \n",
    "                arr[j], arr[j+1] = arr[j+1], arr[j] \n",
    "                swapped = True\n",
    "  \n",
    "        # IF no two elements were swapped \n",
    "        # by inner loop, then break \n",
    "        if swapped == False: \n",
    "            break"
   ]
  },
  {
   "cell_type": "code",
   "execution_count": 15,
   "metadata": {},
   "outputs": [],
   "source": [
    "# recursive\n",
    "def bubble_sort(listt): \n",
    "    for i, num in enumerate(listt): \n",
    "        try: \n",
    "            if listt[i+1] < num: \n",
    "                listt[i] = listt[i+1] \n",
    "                listt[i+1] = num \n",
    "                bubble_sort(listt) \n",
    "        except IndexError: \n",
    "            pass\n",
    "    return listt "
   ]
  },
  {
   "cell_type": "markdown",
   "metadata": {},
   "source": [
    "# insertion sort"
   ]
  },
  {
   "cell_type": "code",
   "execution_count": 18,
   "metadata": {},
   "outputs": [],
   "source": [
    "# Function to do insertion sort \n",
    "def insertionSort(arr): \n",
    "  \n",
    "    # Traverse through 1 to len(arr) \n",
    "    for i in range(1, len(arr)): \n",
    "  \n",
    "        key = arr[i] \n",
    "  \n",
    "        # Move elements of arr[0..i-1], that are \n",
    "        # greater than key, to one position ahead \n",
    "        # of their current position \n",
    "        j = i-1\n",
    "        while j >= 0 and key < arr[j] : \n",
    "                arr[j + 1] = arr[j] \n",
    "                j -= 1\n",
    "        arr[j + 1] = key "
   ]
  },
  {
   "cell_type": "markdown",
   "metadata": {},
   "source": [
    "# tim sort"
   ]
  },
  {
   "cell_type": "code",
   "execution_count": 16,
   "metadata": {},
   "outputs": [],
   "source": [
    "# TimSort is a sorting algorithm based on Insertion Sort and Merge Sort."
   ]
  },
  {
   "cell_type": "code",
   "execution_count": 17,
   "metadata": {},
   "outputs": [],
   "source": [
    "# Python3 program to perform TimSort.  \n",
    "RUN = 32 \n",
    "    \n",
    "# This function sorts array from left index to  \n",
    "# to right index which is of size atmost RUN  \n",
    "def insertionSort(arr, left, right):  \n",
    "   \n",
    "    for i in range(left + 1, right+1):  \n",
    "       \n",
    "        temp = arr[i]  \n",
    "        j = i - 1 \n",
    "        while arr[j] > temp and j >= left:  \n",
    "           \n",
    "            arr[j+1] = arr[j]  \n",
    "            j -= 1\n",
    "           \n",
    "        arr[j+1] = temp  \n",
    "    \n",
    "# merge function merges the sorted runs  \n",
    "def merge(arr, l, m, r): \n",
    "   \n",
    "    # original array is broken in two parts  \n",
    "    # left and right array  \n",
    "    len1, len2 =  m - l + 1, r - m  \n",
    "    left, right = [], []  \n",
    "    for i in range(0, len1):  \n",
    "        left.append(arr[l + i])  \n",
    "    for i in range(0, len2):  \n",
    "        right.append(arr[m + 1 + i])  \n",
    "    \n",
    "    i, j, k = 0, 0, l \n",
    "    # after comparing, we merge those two array  \n",
    "    # in larger sub array  \n",
    "    while i < len1 and j < len2:  \n",
    "       \n",
    "        if left[i] <= right[j]:  \n",
    "            arr[k] = left[i]  \n",
    "            i += 1 \n",
    "           \n",
    "        else: \n",
    "            arr[k] = right[j]  \n",
    "            j += 1 \n",
    "           \n",
    "        k += 1\n",
    "       \n",
    "    # copy remaining elements of left, if any  \n",
    "    while i < len1:  \n",
    "       \n",
    "        arr[k] = left[i]  \n",
    "        k += 1 \n",
    "        i += 1\n",
    "    \n",
    "    # copy remaining element of right, if any  \n",
    "    while j < len2:  \n",
    "        arr[k] = right[j]  \n",
    "        k += 1\n",
    "        j += 1\n",
    "      \n",
    "# iterative Timsort function to sort the  \n",
    "# array[0...n-1] (similar to merge sort)  \n",
    "def timSort(arr, n):  \n",
    "   \n",
    "    # Sort individual subarrays of size RUN  \n",
    "    for i in range(0, n, RUN):  \n",
    "        insertionSort(arr, i, min((i+31), (n-1)))  \n",
    "    \n",
    "    # start merging from size RUN (or 32). It will merge  \n",
    "    # to form size 64, then 128, 256 and so on ....  \n",
    "    size = RUN \n",
    "    while size < n:  \n",
    "       \n",
    "        # pick starting point of left sub array. We  \n",
    "        # are going to merge arr[left..left+size-1]  \n",
    "        # and arr[left+size, left+2*size-1]  \n",
    "        # After every merge, we increase left by 2*size  \n",
    "        for left in range(0, n, 2*size):  \n",
    "           \n",
    "            # find ending point of left sub array  \n",
    "            # mid+1 is starting point of right sub array  \n",
    "            mid = left + size - 1 \n",
    "            right = min((left + 2*size - 1), (n-1))  \n",
    "    \n",
    "            # merge sub array arr[left.....mid] &  \n",
    "            # arr[mid+1....right]  \n",
    "            merge(arr, left, mid, right)  \n",
    "          \n",
    "        size = 2*size \n",
    "           "
   ]
  },
  {
   "cell_type": "markdown",
   "metadata": {},
   "source": [
    "Example: Design an algorithm to print all permutations of a string. For simplicity, assume all cha r ­\n",
    "acters are unique.\n",
    "\n",
    "Consider a test string abcdefg.\n",
    "\n",
    "Case \"a\" --> {\"a\"}\n",
    "\n",
    "Case \"ab\" - -> {\"ab\", \"ba\"}\n",
    "\n",
    "Case \"abc\" --> ?\n",
    "\n",
    "This is the first \"interesting\" case. If we had the answer to P (\"ab\"), how could we generate P (\"abc\")?\n",
    "\n",
    "Well, the additional letter is \"c,\" so we can just stick c in at every possible point. That is:\n",
    "\n",
    "P(\"abc\")\n",
    "\n",
    "insert \"c\" into all locations of all strings in P(\"ab\")\n",
    "\n",
    "P(\"abc\")\n",
    "\n",
    "insert \"c\" into all locations of all strings in {\"ab\",\"ba\"}\n",
    "\n",
    "P(\"abc\")\n",
    "\n",
    "merge({\"cab\", \"\"acb\", \"abc\"}, {\"cba\", abca\", bac\"})\n",
    "\n",
    "P(\"abc\")\n",
    "\n",
    "{\"cab\", \"acb\", \"abc\", \"cba\", \"bca\", bac\"}\n",
    "\n",
    "Now that we understand the pattern, we can develop a general recursive algorithn1:\n"
   ]
  },
  {
   "cell_type": "markdown",
   "metadata": {},
   "source": [
    "# running median"
   ]
  },
  {
   "cell_type": "code",
   "execution_count": 19,
   "metadata": {},
   "outputs": [
    {
     "name": "stdout",
     "output_type": "stream",
     "text": [
      "12\n",
      "8.0\n",
      "5\n",
      "4.5\n",
      "5\n",
      "6.0\n"
     ]
    }
   ],
   "source": [
    "from heapq import heappush, heappop\n",
    "\n",
    "\n",
    "def add_number(number, lowers, highers):\n",
    "    if not highers or number > highers[0]:\n",
    "        heappush(highers, number)\n",
    "    else:\n",
    "        heappush(lowers, -number)  # for lowers we need a max heap\n",
    "\n",
    "\n",
    "def rebalance(lowers, highers):\n",
    "    if len(lowers) - len(highers) > 1:\n",
    "        heappush(highers, -heappop(lowers))\n",
    "    elif len(highers) - len(lowers) > 1:\n",
    "        heappush(lowers, -heappop(highers))\n",
    "\n",
    "\n",
    "def get_median(lowers, highers):\n",
    "    if len(lowers) == len(highers):\n",
    "        return (-lowers[0] + highers[0])/2\n",
    "    elif len(lowers) > len(highers):\n",
    "        return -lowers[0]\n",
    "    else:\n",
    "        return highers[0]\n",
    "\n",
    "\n",
    "lowers, highers = [], []\n",
    "\n",
    "for i in [12, 4, 5, 3, 8, 7]:\n",
    "    add_number(i, lowers, highers)\n",
    "    rebalance(lowers, highers)\n",
    "    print(get_median(lowers, highers))"
   ]
  },
  {
   "cell_type": "code",
   "execution_count": 31,
   "metadata": {},
   "outputs": [
    {
     "data": {
      "text/plain": [
       "[1, 2, 5, 10, 3]"
      ]
     },
     "execution_count": 31,
     "metadata": {},
     "output_type": "execute_result"
    }
   ],
   "source": [
    "dummy = []\n",
    "heappush(dummy, 1)\n",
    "heappush(dummy, 3)\n",
    "heappush(dummy, 5)\n",
    "heappush(dummy, 10)\n",
    "heappush(dummy, 2)\n",
    "heappush(dummy, 0)\n",
    "heappop(dummy)\n",
    "dummy"
   ]
  },
  {
   "cell_type": "markdown",
   "metadata": {},
   "source": [
    "# coin change"
   ]
  },
  {
   "cell_type": "code",
   "execution_count": 37,
   "metadata": {},
   "outputs": [
    {
     "name": "stdout",
     "output_type": "stream",
     "text": [
      "4\n"
     ]
    }
   ],
   "source": [
    "# recursive\n",
    "# using currentCoin variable to avoid repetition\n",
    "public static int combo(int amount, int currentCoin){\n",
    "\n",
    "    if( amount == 0)\n",
    "        return 1;\n",
    "\n",
    "    if( amount < 0)\n",
    "        return 0;\n",
    "\n",
    "    int nCombos = 0;\n",
    "    for( int coin = currentCoin; coin < coins.length; coin++){\n",
    "        nCombos += combo(amount - coins[coin],coin);\n",
    "    }\n",
    "\n",
    "    return nCombos;\n",
    "}"
   ]
  },
  {
   "cell_type": "code",
   "execution_count": 39,
   "metadata": {},
   "outputs": [],
   "source": [
    "# for dp save amount, currentCoin value in a 2D array"
   ]
  },
  {
   "cell_type": "code",
   "execution_count": 38,
   "metadata": {},
   "outputs": [],
   "source": []
  },
  {
   "cell_type": "markdown",
   "metadata": {},
   "source": [
    "## Pending links"
   ]
  },
  {
   "cell_type": "markdown",
   "metadata": {},
   "source": [
    "- https://leetcode.com/discuss/interview-question/344238/google-phone-screen-water-tower\n",
    "- https://practice.geeksforgeeks.org/problems/inversion-of-array/0/\n",
    "- https://www.interviewbit.com/problems/different-bits-sum-pairwise/"
   ]
  },
  {
   "cell_type": "markdown",
   "metadata": {},
   "source": [
    "Read time complexity from Cracking coding interview book"
   ]
  },
  {
   "cell_type": "markdown",
   "metadata": {},
   "source": [
    "find n sized permutations from an array"
   ]
  },
  {
   "cell_type": "code",
   "execution_count": 35,
   "metadata": {},
   "outputs": [
    {
     "data": {
      "text/plain": [
       "5"
      ]
     },
     "execution_count": 35,
     "metadata": {},
     "output_type": "execute_result"
    }
   ],
   "source": [
    "a = set([12,3,4,5])"
   ]
  },
  {
   "cell_type": "code",
   "execution_count": 36,
   "metadata": {},
   "outputs": [
    {
     "name": "stdout",
     "output_type": "stream",
     "text": [
      "Help on class set in module builtins:\n",
      "\n",
      "class set(object)\n",
      " |  set() -> new empty set object\n",
      " |  set(iterable) -> new set object\n",
      " |  \n",
      " |  Build an unordered collection of unique elements.\n",
      " |  \n",
      " |  Methods defined here:\n",
      " |  \n",
      " |  __and__(self, value, /)\n",
      " |      Return self&value.\n",
      " |  \n",
      " |  __contains__(...)\n",
      " |      x.__contains__(y) <==> y in x.\n",
      " |  \n",
      " |  __eq__(self, value, /)\n",
      " |      Return self==value.\n",
      " |  \n",
      " |  __ge__(self, value, /)\n",
      " |      Return self>=value.\n",
      " |  \n",
      " |  __getattribute__(self, name, /)\n",
      " |      Return getattr(self, name).\n",
      " |  \n",
      " |  __gt__(self, value, /)\n",
      " |      Return self>value.\n",
      " |  \n",
      " |  __iand__(self, value, /)\n",
      " |      Return self&=value.\n",
      " |  \n",
      " |  __init__(self, /, *args, **kwargs)\n",
      " |      Initialize self.  See help(type(self)) for accurate signature.\n",
      " |  \n",
      " |  __ior__(self, value, /)\n",
      " |      Return self|=value.\n",
      " |  \n",
      " |  __isub__(self, value, /)\n",
      " |      Return self-=value.\n",
      " |  \n",
      " |  __iter__(self, /)\n",
      " |      Implement iter(self).\n",
      " |  \n",
      " |  __ixor__(self, value, /)\n",
      " |      Return self^=value.\n",
      " |  \n",
      " |  __le__(self, value, /)\n",
      " |      Return self<=value.\n",
      " |  \n",
      " |  __len__(self, /)\n",
      " |      Return len(self).\n",
      " |  \n",
      " |  __lt__(self, value, /)\n",
      " |      Return self<value.\n",
      " |  \n",
      " |  __ne__(self, value, /)\n",
      " |      Return self!=value.\n",
      " |  \n",
      " |  __new__(*args, **kwargs) from builtins.type\n",
      " |      Create and return a new object.  See help(type) for accurate signature.\n",
      " |  \n",
      " |  __or__(self, value, /)\n",
      " |      Return self|value.\n",
      " |  \n",
      " |  __rand__(self, value, /)\n",
      " |      Return value&self.\n",
      " |  \n",
      " |  __reduce__(...)\n",
      " |      Return state information for pickling.\n",
      " |  \n",
      " |  __repr__(self, /)\n",
      " |      Return repr(self).\n",
      " |  \n",
      " |  __ror__(self, value, /)\n",
      " |      Return value|self.\n",
      " |  \n",
      " |  __rsub__(self, value, /)\n",
      " |      Return value-self.\n",
      " |  \n",
      " |  __rxor__(self, value, /)\n",
      " |      Return value^self.\n",
      " |  \n",
      " |  __sizeof__(...)\n",
      " |      S.__sizeof__() -> size of S in memory, in bytes\n",
      " |  \n",
      " |  __sub__(self, value, /)\n",
      " |      Return self-value.\n",
      " |  \n",
      " |  __xor__(self, value, /)\n",
      " |      Return self^value.\n",
      " |  \n",
      " |  add(...)\n",
      " |      Add an element to a set.\n",
      " |      \n",
      " |      This has no effect if the element is already present.\n",
      " |  \n",
      " |  clear(...)\n",
      " |      Remove all elements from this set.\n",
      " |  \n",
      " |  copy(...)\n",
      " |      Return a shallow copy of a set.\n",
      " |  \n",
      " |  difference(...)\n",
      " |      Return the difference of two or more sets as a new set.\n",
      " |      \n",
      " |      (i.e. all elements that are in this set but not the others.)\n",
      " |  \n",
      " |  difference_update(...)\n",
      " |      Remove all elements of another set from this set.\n",
      " |  \n",
      " |  discard(...)\n",
      " |      Remove an element from a set if it is a member.\n",
      " |      \n",
      " |      If the element is not a member, do nothing.\n",
      " |  \n",
      " |  intersection(...)\n",
      " |      Return the intersection of two sets as a new set.\n",
      " |      \n",
      " |      (i.e. all elements that are in both sets.)\n",
      " |  \n",
      " |  intersection_update(...)\n",
      " |      Update a set with the intersection of itself and another.\n",
      " |  \n",
      " |  isdisjoint(...)\n",
      " |      Return True if two sets have a null intersection.\n",
      " |  \n",
      " |  issubset(...)\n",
      " |      Report whether another set contains this set.\n",
      " |  \n",
      " |  issuperset(...)\n",
      " |      Report whether this set contains another set.\n",
      " |  \n",
      " |  pop(...)\n",
      " |      Remove and return an arbitrary set element.\n",
      " |      Raises KeyError if the set is empty.\n",
      " |  \n",
      " |  remove(...)\n",
      " |      Remove an element from a set; it must be a member.\n",
      " |      \n",
      " |      If the element is not a member, raise a KeyError.\n",
      " |  \n",
      " |  symmetric_difference(...)\n",
      " |      Return the symmetric difference of two sets as a new set.\n",
      " |      \n",
      " |      (i.e. all elements that are in exactly one of the sets.)\n",
      " |  \n",
      " |  symmetric_difference_update(...)\n",
      " |      Update a set with the symmetric difference of itself and another.\n",
      " |  \n",
      " |  union(...)\n",
      " |      Return the union of sets as a new set.\n",
      " |      \n",
      " |      (i.e. all elements that are in either set.)\n",
      " |  \n",
      " |  update(...)\n",
      " |      Update a set with the union of itself and others.\n",
      " |  \n",
      " |  ----------------------------------------------------------------------\n",
      " |  Data and other attributes defined here:\n",
      " |  \n",
      " |  __hash__ = None\n",
      "\n"
     ]
    }
   ],
   "source": [
    "help(set)"
   ]
  },
  {
   "cell_type": "code",
   "execution_count": null,
   "metadata": {},
   "outputs": [],
   "source": []
  }
 ],
 "metadata": {
  "kernelspec": {
   "display_name": "Python 3",
   "language": "python",
   "name": "python3"
  },
  "language_info": {
   "codemirror_mode": {
    "name": "ipython",
    "version": 3
   },
   "file_extension": ".py",
   "mimetype": "text/x-python",
   "name": "python",
   "nbconvert_exporter": "python",
   "pygments_lexer": "ipython3",
   "version": "3.6.8"
  }
 },
 "nbformat": 4,
 "nbformat_minor": 2
}
